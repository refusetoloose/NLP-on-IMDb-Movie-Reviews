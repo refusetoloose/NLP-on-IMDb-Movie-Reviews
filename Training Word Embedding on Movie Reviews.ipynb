{
 "cells": [
  {
   "cell_type": "code",
   "execution_count": 16,
   "metadata": {},
   "outputs": [
    {
     "name": "stdout",
     "output_type": "stream",
     "text": [
      "similarity between funny and comedy is 0.21503868699073792\n",
      "similarity between funny and music is 0.04915085807442665\n",
      "similarity between funny and laugh is 0.04542345926165581\n",
      "similarity between funny and humor is 0.10704237967729568\n",
      "similarity between funny and song is 0.18746115267276764\n",
      "similarity between funny and songs is 0.12598198652267456\n",
      "similarity between funny and jokes is -0.03979015722870827\n",
      "similarity between funny and musical is 0.3234112858772278\n",
      "similarity between funny and hilarious is 0.4024328887462616\n",
      "similarity between comedy and music is 0.5434297919273376\n",
      "similarity between comedy and laugh is 0.3169022798538208\n",
      "similarity between comedy and humor is 0.6495056748390198\n",
      "similarity between comedy and song is 0.3587695062160492\n",
      "similarity between comedy and songs is 0.498892605304718\n",
      "similarity between comedy and jokes is 0.1630212664604187\n",
      "similarity between comedy and musical is 0.10773903131484985\n",
      "similarity between comedy and hilarious is 0.10543989390134811\n",
      "similarity between music and laugh is 0.14560534060001373\n",
      "similarity between music and humor is 0.5635691285133362\n",
      "similarity between music and song is 0.24153272807598114\n",
      "similarity between music and songs is 0.3352275490760803\n",
      "similarity between music and jokes is 0.24229566752910614\n",
      "similarity between music and musical is 0.18495023250579834\n",
      "similarity between music and hilarious is 0.11710994690656662\n",
      "similarity between laugh and humor is 0.24888671934604645\n",
      "similarity between laugh and song is 0.4175429344177246\n",
      "similarity between laugh and songs is 0.15358534455299377\n",
      "similarity between laugh and jokes is 0.10439871996641159\n",
      "similarity between laugh and musical is 0.22468100488185883\n",
      "similarity between laugh and hilarious is 0.037676289677619934\n",
      "similarity between humor and song is 0.33443084359169006\n",
      "similarity between humor and songs is 0.36817866563796997\n",
      "similarity between humor and jokes is 0.2020452916622162\n",
      "similarity between humor and musical is 0.14544513821601868\n",
      "similarity between humor and hilarious is 0.06346993893384933\n",
      "similarity between song and songs is 0.3768952190876007\n",
      "similarity between song and jokes is 0.20477630198001862\n",
      "similarity between song and musical is 0.1352388709783554\n",
      "similarity between song and hilarious is 0.1427597850561142\n",
      "similarity between songs and jokes is 0.544585645198822\n",
      "similarity between songs and musical is 0.0737093985080719\n",
      "similarity between songs and hilarious is 0.07889702171087265\n",
      "similarity between jokes and musical is 0.2588162124156952\n",
      "similarity between jokes and hilarious is 0.1250367909669876\n",
      "similarity between musical and hilarious is 0.38589444756507874\n"
     ]
    },
    {
     "name": "stderr",
     "output_type": "stream",
     "text": [
      "<ipython-input-16-0bc4eac3799e>:14: UserWarning: [W007] The model you're using has no word vectors loaded, so the result of the Token.similarity method will be based on the tagger, parser and NER, which may not give useful similarity judgements. This may happen if you're using one of the small models, e.g. `en_core_web_sm`, which don't ship with word vectors and only use context-sensitive tensors. You can always add your own word vectors, or use one of the larger models instead if available.\n",
      "  f\"similarity between {token1} and {token2} is {token1.similarity(token2)}\"\n"
     ]
    }
   ],
   "source": [
    "from itertools import combinations\n",
    "\n",
    "import spacy\n",
    "\n",
    "nlp = spacy.load(\"en_core_web_sm\")\n",
    "text = (\n",
    "    \"funny comedy music laugh humor song songs jokes musical hilarious\"\n",
    ")\n",
    "doc = nlp(text)\n",
    "\n",
    "for token1, token2 in combinations(doc, 2):\n",
    "    print(\n",
    "        f\"similarity between {token1} and {token2} is {token1.similarity(token2)}\"\n",
    "    )"
   ]
  },
  {
   "cell_type": "code",
   "execution_count": null,
   "metadata": {},
   "outputs": [],
   "source": [
    "import pandas as pd\n",
    "from gensim.models import Word2Vec\n",
    "from tqdm.autonotebook import tqdm\n",
    "\n",
    "\n",
    "data = pd.read_csv(\"train.csv\")\n",
    "\n",
    "# train a Word2vec model\n",
    "sentences = [sentence.split() for sentence in data['review']]\n",
    "model = Word2Vec(sentences, vector_size=100, window=5, min_count=1, workers=4)\n"
   ]
  },
  {
   "cell_type": "code",
   "execution_count": 18,
   "metadata": {},
   "outputs": [
    {
     "name": "stdout",
     "output_type": "stream",
     "text": [
      "similarity between funny and comedy is 0.5206844806671143\n",
      "similarity between funny and music is 0.41449445486068726\n",
      "similarity between funny and laugh is 0.45769771933555603\n",
      "similarity between funny and humor is 0.5213301181793213\n",
      "similarity between funny and song is 0.31230178475379944\n",
      "similarity between funny and songs is 0.3922627568244934\n",
      "similarity between funny and jokes is 0.47283631563186646\n",
      "similarity between funny and musical is 0.32105162739753723\n",
      "similarity between funny and hilarious is 0.7559987902641296\n",
      "similarity between comedy and music is 0.446434885263443\n",
      "similarity between comedy and laugh is 0.30032026767730713\n",
      "similarity between comedy and humor is 0.6852787137031555\n",
      "similarity between comedy and song is 0.2743665874004364\n",
      "similarity between comedy and songs is 0.3359922170639038\n",
      "similarity between comedy and jokes is 0.40731754899024963\n",
      "similarity between comedy and musical is 0.5873039364814758\n",
      "similarity between comedy and hilarious is 0.5259975790977478\n",
      "similarity between music and laugh is 0.28430500626564026\n",
      "similarity between music and humor is 0.625985860824585\n",
      "similarity between music and song is 0.6237624287605286\n",
      "similarity between music and songs is 0.674571692943573\n",
      "similarity between music and jokes is 0.582983672618866\n",
      "similarity between music and musical is 0.6826121807098389\n",
      "similarity between music and hilarious is 0.5166608691215515\n",
      "similarity between laugh and humor is 0.4318063259124756\n",
      "similarity between laugh and song is 0.13018420338630676\n",
      "similarity between laugh and songs is 0.24378837645053864\n",
      "similarity between laugh and jokes is 0.46934184432029724\n",
      "similarity between laugh and musical is 0.036807842552661896\n",
      "similarity between laugh and hilarious is 0.2443249523639679\n",
      "similarity between humor and song is 0.21476538479328156\n",
      "similarity between humor and songs is 0.4655947685241699\n",
      "similarity between humor and jokes is 0.637363612651825\n",
      "similarity between humor and musical is 0.4501587152481079\n",
      "similarity between humor and hilarious is 0.5301488637924194\n",
      "similarity between song and songs is 0.5672004818916321\n",
      "similarity between song and jokes is 0.3445989191532135\n",
      "similarity between song and musical is 0.5586637258529663\n",
      "similarity between song and hilarious is 0.4652007818222046\n",
      "similarity between songs and jokes is 0.8044518828392029\n",
      "similarity between songs and musical is 0.5701119303703308\n",
      "similarity between songs and hilarious is 0.4663007855415344\n",
      "similarity between jokes and musical is 0.36624279618263245\n",
      "similarity between jokes and hilarious is 0.40478378534317017\n",
      "similarity between musical and hilarious is 0.5843468904495239\n"
     ]
    }
   ],
   "source": [
    "for token1, token2 in combinations(text.split(), 2):\n",
    "    print(\n",
    "        f\"similarity between {token1} and {token2} is {model.wv.similarity(token1, token2)}\"\n",
    "    )"
   ]
  },
  {
   "cell_type": "code",
   "execution_count": 19,
   "metadata": {},
   "outputs": [],
   "source": [
    "#One results with topic modelling output just to check"
   ]
  },
  {
   "cell_type": "code",
   "execution_count": 20,
   "metadata": {},
   "outputs": [
    {
     "name": "stdout",
     "output_type": "stream",
     "text": [
      "similarity between love and story is 0.2612319886684418\n",
      "similarity between love and beautiful is 0.14297959208488464\n",
      "similarity between love and life is 0.49268341064453125\n",
      "similarity between love and time is 0.15725982189178467\n",
      "similarity between love and wonderful is 0.04330592229962349\n",
      "similarity between love and great is 0.1289440095424652\n",
      "similarity between love and young is 0.028320007026195526\n",
      "similarity between love and heart is 0.2946739196777344\n",
      "similarity between love and old is 0.04461490735411644\n",
      "similarity between story and beautiful is 0.260296106338501\n",
      "similarity between story and life is 0.4379761219024658\n",
      "similarity between story and time is 0.5219224095344543\n",
      "similarity between story and wonderful is 0.13855203986167908\n",
      "similarity between story and great is 0.10585889965295792\n",
      "similarity between story and young is 0.007627406623214483\n",
      "similarity between story and heart is 0.5434581637382507\n",
      "similarity between story and old is 0.1408863216638565\n",
      "similarity between beautiful and life is 0.2975909411907196\n",
      "similarity between beautiful and time is 0.12560999393463135\n",
      "similarity between beautiful and wonderful is 0.5651761293411255\n",
      "similarity between beautiful and great is 0.6891595125198364\n",
      "similarity between beautiful and young is 0.741335928440094\n",
      "similarity between beautiful and heart is 0.16324056684970856\n",
      "similarity between beautiful and old is 0.4252161979675293\n",
      "similarity between life and time is 0.31465810537338257\n",
      "similarity between life and wonderful is 0.015902811661362648\n",
      "similarity between life and great is 0.246526837348938\n",
      "similarity between life and young is 0.2770252525806427\n",
      "similarity between life and heart is 0.5618595480918884\n",
      "similarity between life and old is 0.041783664375543594\n",
      "similarity between time and wonderful is 0.23866897821426392\n",
      "similarity between time and great is -0.037294358015060425\n",
      "similarity between time and young is -0.06073421239852905\n",
      "similarity between time and heart is 0.49862438440322876\n",
      "similarity between time and old is 0.2816089987754822\n",
      "similarity between wonderful and great is 0.4974193274974823\n",
      "similarity between wonderful and young is 0.3111778497695923\n",
      "similarity between wonderful and heart is 0.132643923163414\n",
      "similarity between wonderful and old is 0.5447259545326233\n",
      "similarity between great and young is 0.7443023920059204\n",
      "similarity between great and heart is 0.1577959507703781\n",
      "similarity between great and old is 0.33948585391044617\n",
      "similarity between young and heart is 0.0654977560043335\n",
      "similarity between young and old is 0.34792566299438477\n",
      "similarity between heart and old is 0.22404155135154724\n"
     ]
    },
    {
     "name": "stderr",
     "output_type": "stream",
     "text": [
      "<ipython-input-20-750a3b3f3770>:14: UserWarning: [W007] The model you're using has no word vectors loaded, so the result of the Token.similarity method will be based on the tagger, parser and NER, which may not give useful similarity judgements. This may happen if you're using one of the small models, e.g. `en_core_web_sm`, which don't ship with word vectors and only use context-sensitive tensors. You can always add your own word vectors, or use one of the larger models instead if available.\n",
      "  f\"similarity between {token1} and {token2} is {token1.similarity(token2)}\"\n"
     ]
    }
   ],
   "source": [
    "from itertools import combinations\n",
    "\n",
    "import spacy\n",
    "\n",
    "nlp = spacy.load(\"en_core_web_sm\")\n",
    "text = (\n",
    "    \"love story beautiful life time wonderful great young heart old\"\n",
    ")\n",
    "doc = nlp(text)\n",
    "\n",
    "for token1, token2 in combinations(doc, 2):\n",
    "    print(\n",
    "        f\"similarity between {token1} and {token2} is {token1.similarity(token2)}\"\n",
    "    )"
   ]
  },
  {
   "cell_type": "code",
   "execution_count": 21,
   "metadata": {},
   "outputs": [],
   "source": [
    "import pandas as pd\n",
    "from gensim.models import Word2Vec\n",
    "from tqdm.autonotebook import tqdm\n",
    "\n",
    "\n",
    "data = pd.read_csv(\"train.csv\")\n",
    "\n",
    "# train a Word2vec model\n",
    "sentences = [sentence.split() for sentence in data['review']]\n",
    "model = Word2Vec(sentences, vector_size=100, window=5, min_count=1, workers=4)"
   ]
  },
  {
   "cell_type": "code",
   "execution_count": 22,
   "metadata": {},
   "outputs": [
    {
     "name": "stdout",
     "output_type": "stream",
     "text": [
      "similarity between love and story is 0.1724100410938263\n",
      "similarity between love and beautiful is 0.42718982696533203\n",
      "similarity between love and life is 0.3370630741119385\n",
      "similarity between love and time is 0.14992927014827728\n",
      "similarity between love and wonderful is 0.4124179482460022\n",
      "similarity between love and great is 0.3747968375682831\n",
      "similarity between love and young is 0.35383135080337524\n",
      "similarity between love and heart is 0.31762003898620605\n",
      "similarity between love and old is 0.306578129529953\n",
      "similarity between story and beautiful is 0.23786082863807678\n",
      "similarity between story and life is 0.5090845227241516\n",
      "similarity between story and time is 0.31051695346832275\n",
      "similarity between story and wonderful is 0.2679899036884308\n",
      "similarity between story and great is 0.15785257518291473\n",
      "similarity between story and young is 0.18728813529014587\n",
      "similarity between story and heart is 0.371814101934433\n",
      "similarity between story and old is 0.012817177921533585\n",
      "similarity between beautiful and life is 0.2159438282251358\n",
      "similarity between beautiful and time is 0.08792291581630707\n",
      "similarity between beautiful and wonderful is 0.7666741013526917\n",
      "similarity between beautiful and great is 0.5884835720062256\n",
      "similarity between beautiful and young is 0.5810233354568481\n",
      "similarity between beautiful and heart is 0.2829373776912689\n",
      "similarity between beautiful and old is 0.2418428510427475\n",
      "similarity between life and time is 0.5120555758476257\n",
      "similarity between life and wonderful is 0.1482980102300644\n",
      "similarity between life and great is 0.11763382703065872\n",
      "similarity between life and young is 0.3188510239124298\n",
      "similarity between life and heart is 0.6167621612548828\n",
      "similarity between life and old is 0.17909710109233856\n",
      "similarity between time and wonderful is 0.1808221936225891\n",
      "similarity between time and great is 0.24562664330005646\n",
      "similarity between time and young is 0.13500425219535828\n",
      "similarity between time and heart is 0.46160003542900085\n",
      "similarity between time and old is 0.19249577820301056\n",
      "similarity between wonderful and great is 0.8634238243103027\n",
      "similarity between wonderful and young is 0.35661429166793823\n",
      "similarity between wonderful and heart is 0.24638158082962036\n",
      "similarity between wonderful and old is 0.14555159211158752\n",
      "similarity between great and young is 0.252046674489975\n",
      "similarity between great and heart is 0.24900849163532257\n",
      "similarity between great and old is 0.1543293595314026\n",
      "similarity between young and heart is 0.2690184414386749\n",
      "similarity between young and old is 0.5612395405769348\n",
      "similarity between heart and old is 0.2662796080112457\n"
     ]
    }
   ],
   "source": [
    "for token1, token2 in combinations(text.split(), 2):\n",
    "    print(\n",
    "        f\"similarity between {token1} and {token2} is {model.wv.similarity(token1, token2)}\"\n",
    "    )"
   ]
  }
 ],
 "metadata": {
  "kernelspec": {
   "display_name": "venv",
   "language": "python",
   "name": "python3"
  },
  "language_info": {
   "codemirror_mode": {
    "name": "ipython",
    "version": 3
   },
   "file_extension": ".py",
   "mimetype": "text/x-python",
   "name": "python",
   "nbconvert_exporter": "python",
   "pygments_lexer": "ipython3",
   "version": "3.9.13"
  }
 },
 "nbformat": 4,
 "nbformat_minor": 2
}
