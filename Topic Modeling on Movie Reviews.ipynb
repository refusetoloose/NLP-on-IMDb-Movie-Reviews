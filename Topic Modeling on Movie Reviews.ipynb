{
 "cells": [
  {
   "cell_type": "code",
   "execution_count": 40,
   "source": [
    "import pandas as pd\n",
    "import spacy\n",
    "from sklearn.decomposition import LatentDirichletAllocation\n",
    "from sklearn.feature_extraction.text import CountVectorizer\n",
    "from tqdm import tqdm\n",
    "\n",
    "nlp = spacy.load(\"en_core_web_sm\")\n",
    "data = pd.read_csv(\"train.csv\")\n",
    "print(data[\"review\"].head())"
   ],
   "outputs": [
    {
     "output_type": "stream",
     "name": "stdout",
     "text": [
      "0    Bromwell High is a cartoon comedy. It ran at t...\n",
      "1    Homelessness (or Houselessness as George Carli...\n",
      "2    Brilliant over-acting by Lesley Ann Warren. Be...\n",
      "3    This is easily the most underrated film inn th...\n",
      "4    This is not the typical Mel Brooks film. It wa...\n",
      "Name: review, dtype: object\n"
     ]
    }
   ],
   "metadata": {}
  },
  {
   "cell_type": "code",
   "execution_count": 41,
   "source": [
    "def spacy_tokenizer(text):\n",
    "    doc = nlp(text)\n",
    "    return [token.lemma_ for token in doc if not token.is_stop and token.is_alpha]"
   ],
   "outputs": [],
   "metadata": {}
  },
  {
   "cell_type": "code",
   "execution_count": 42,
   "source": [
    "tf_vectorizer = CountVectorizer(\n",
    "    # set up your CountVectorizer\n",
    "    tokenizer=spacy_tokenizer, max_df=0.95, min_df=2, max_features=1000\n",
    ")"
   ],
   "outputs": [],
   "metadata": {}
  },
  {
   "cell_type": "code",
   "execution_count": 43,
   "source": [
    "with tqdm(total=len(data)) as pbar:\n",
    "    tf = tf_vectorizer.fit_transform(data[\"review\"])\n",
    "    pbar.update(len(data))"
   ],
   "outputs": [
    {
     "output_type": "stream",
     "name": "stderr",
     "text": [
      "  0%|          | 0/25000 [00:00<?, ?it/s]c:\\Users\\Prajwal\\OneDrive\\Videos\\SAIT\\aDATA475\\VS_Python\\lab4\\venv\\lib\\site-packages\\sklearn\\feature_extraction\\text.py:525: UserWarning: The parameter 'token_pattern' will not be used since 'tokenizer' is not None'\n",
      "  warnings.warn(\n",
      "100%|██████████| 25000/25000 [15:35<00:00, 26.73it/s]\n"
     ]
    }
   ],
   "metadata": {}
  },
  {
   "cell_type": "code",
   "execution_count": 44,
   "source": [
    "print(tf_vectorizer.get_feature_names_out()[:10])"
   ],
   "outputs": [
    {
     "output_type": "stream",
     "name": "stdout",
     "text": [
      "['ability' 'able' 'absolutely' 'accent' 'accept' 'act' 'acting' 'action'\n",
      " 'actor' 'actress']\n"
     ]
    }
   ],
   "metadata": {}
  },
  {
   "cell_type": "code",
   "execution_count": 45,
   "source": [
    "lda = LatentDirichletAllocation(\n",
    "    # set up your LatentDirichletAllocation\n",
    "    n_components=20, learning_method='online', learning_offset=50, random_state=69\n",
    ")"
   ],
   "outputs": [],
   "metadata": {}
  },
  {
   "cell_type": "code",
   "execution_count": 46,
   "source": [
    "with tqdm(total=100) as pbar:\n",
    "    lda.fit(tf)\n",
    "    pbar.update(100)"
   ],
   "outputs": [
    {
     "output_type": "stream",
     "name": "stderr",
     "text": [
      "100%|██████████| 100/100 [01:53<00:00,  1.13s/it]\n"
     ]
    }
   ],
   "metadata": {}
  },
  {
   "cell_type": "code",
   "execution_count": 47,
   "source": [
    "def show_topic(model, feature_names, top):\n",
    "    for index, distribution in enumerate(model.components_):\n",
    "        sorted_word_indices = distribution.argsort()[::-1][:top]\n",
    "        print(f\"Topic {index}:\")\n",
    "        print(\" \".join([feature_names[i] for i in sorted_word_indices]))\n",
    "\n",
    "tf_feature_names = tf_vectorizer.get_feature_names_out()\n",
    "top = 10\n",
    "show_topic(lda, tf_feature_names, top)"
   ],
   "outputs": [
    {
     "output_type": "stream",
     "name": "stdout",
     "text": [
      "Topic 0:\n",
      "voice john mr tom dog joe michael dr david mary\n",
      "Topic 1:\n",
      "love story beautiful life time wonderful great young heart old\n",
      "Topic 2:\n",
      "horror budget zombie killer gore low blood kill effect film\n",
      "Topic 3:\n",
      "family kid child school old young boy year girl parent\n",
      "Topic 4:\n",
      "people life movie character like way know feel story think\n",
      "Topic 5:\n",
      "man woman wife find house go father come get home\n",
      "Topic 6:\n",
      "black white sex sequence film woman director gay camera sexual\n",
      "Topic 7:\n",
      "man murder kill police city gun cop crime new western\n",
      "Topic 8:\n",
      "movie bad like watch think time know go thing people\n",
      "Topic 9:\n",
      "film like good see scene story work character director watch\n",
      "Topic 10:\n",
      "like scene look guy bad get pretty good thing lot\n",
      "Topic 11:\n",
      "war american world documentary film soldier history footage country people\n",
      "Topic 12:\n",
      "book original version story character read novel time animation king\n",
      "Topic 13:\n",
      "film character play good role performance actor cast story give\n",
      "Topic 14:\n",
      "movie see time song watch like year dvd good film\n",
      "Topic 15:\n",
      "comment rock music lame band roll accent english listen drug\n",
      "Topic 16:\n",
      "movie good like watch great story think see character plot\n",
      "Topic 17:\n",
      "bad acting script poor actor awful terrible boring act poorly\n",
      "Topic 18:\n",
      "series episode tv watch good show season like television fi\n",
      "Topic 19:\n",
      "funny comedy laugh game joke fun humor good play hilarious\n"
     ]
    }
   ],
   "metadata": {}
  }
 ],
 "nbformat": 4,
 "nbformat_minor": 2,
 "metadata": {
  "language_info": {
   "codemirror_mode": {
    "name": "ipython",
    "version": 3
   },
   "file_extension": ".py",
   "mimetype": "text/x-python",
   "name": "python",
   "nbconvert_exporter": "python",
   "pygments_lexer": "ipython3",
   "version": 3
  }
 }
}